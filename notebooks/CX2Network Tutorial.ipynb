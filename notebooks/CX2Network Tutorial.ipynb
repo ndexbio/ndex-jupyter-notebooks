{
 "cells": [
  {
   "cell_type": "markdown",
   "metadata": {},
   "source": [
    "# CX2Network Tutorial"
   ]
  },
  {
   "cell_type": "markdown",
   "metadata": {},
   "source": [
    "In this tutorial you will learn to use `CX2Network`, a simple data model that is part of the `ndex2 NDEx Client` module.\n",
    "`CX2Network` facilitates creating and working with networks, including interfaces to NetworkX and Pandas.\n",
    "This tutorial requires Python 3.8+ and the ndex2 module, see the NDEx Client Tutorial for installation instructions."
   ]
  },
  {
   "cell_type": "markdown",
   "metadata": {},
   "source": [
    "### Import Packages Required for this Tutorial"
   ]
  },
  {
   "cell_type": "code",
   "execution_count": null,
   "metadata": {},
   "outputs": [],
   "source": [
    "from ndex2.cx2 import CX2Network, RawCX2NetworkFactory, NetworkXToCX2NetworkFactory, PandasDataFrameToCX2NetworkFactory, CX2NetworkPandasDataFrameFactory, CX2NetworkXFactory \n",
    "import ndex2.client as nc\n",
    "import ndex2\n",
    "import networkx as nx\n",
    "import pandas as pd\n",
    "import os\n",
    "import json\n",
    "import ndex2.constants as constants"
   ]
  },
  {
   "cell_type": "markdown",
   "metadata": {},
   "source": [
    "# Five ways to create CX2 networks:"
   ]
  },
  {
   "cell_type": "markdown",
   "metadata": {},
   "source": [
    "- Starting with an Empty Network\n",
    "- CX2 Files\n",
    "- NDEx Networks\n",
    "- NetworkX Networks\n",
    "- Pandas DataFrames"
   ]
  },
  {
   "cell_type": "markdown",
   "metadata": {},
   "source": [
    "For information on **how to access nodes, edges, attributes, etc...** see the end of this notebook ([click here](#first-bullet))"
   ]
  },
  {
   "cell_type": "markdown",
   "metadata": {},
   "source": [
    "## Starting with an Empty Network"
   ]
  },
  {
   "cell_type": "markdown",
   "metadata": {},
   "source": [
    "**Create an empty CX2 network**"
   ]
  },
  {
   "cell_type": "code",
   "execution_count": null,
   "metadata": {},
   "outputs": [],
   "source": [
    "cx2_creatures = CX2Network()"
   ]
  },
  {
   "cell_type": "markdown",
   "metadata": {},
   "source": [
    "**Name the Network**"
   ]
  },
  {
   "cell_type": "markdown",
   "metadata": {},
   "source": [
    "The _cx2_creatures_ will now be populated with data in which each node represents a species and has a color attribute. Each edge will specify a relationship between the two species. First, we will set the name of the network:  "
   ]
  },
  {
   "cell_type": "code",
   "execution_count": null,
   "metadata": {},
   "outputs": [],
   "source": [
    "cx2_creatures.add_network_attribute(\"name\", \"Food Web\")"
   ]
  },
  {
   "cell_type": "markdown",
   "metadata": {},
   "source": [
    "**Add Nodes and Edges**"
   ]
  },
  {
   "cell_type": "code",
   "execution_count": null,
   "metadata": {},
   "outputs": [],
   "source": [
    "fox_node = cx2_creatures.add_node(attributes={'name': 'Fox'})\n",
    "mouse_node = cx2_creatures.add_node(attributes={'name': 'Mouse'})\n",
    "bird_node = cx2_creatures.add_node(attributes={'name': 'Bird'})\n",
    "fox_bird_edge = cx2_creatures.add_edge(source=fox_node, target=bird_node, attributes={'interaction': 'interacts-with'})\n",
    "\n",
    "fox_mouse_edge = cx2_creatures.add_edge(source=fox_node, target=mouse_node, attributes={'interaction': 'interacts-with'})\n",
    "\n",
    "print('The fox node has id: %d' % fox_node)\n",
    "\n",
    "print('The mouse node has id: %d' % mouse_node)\n"
   ]
  },
  {
   "cell_type": "markdown",
   "metadata": {},
   "source": [
    "The add_node() and add_edge() methods return the unique ID assigned to the new node or edge. In CX2, IDs are assigned in an ascending order unless specified otherwise by user. In this case, the node with the name \"Fox\" will have an ID of 0, \"Mouse\" will have 1, and so on. The edge between \"Fox\" and \"Bird\" will have the ID of 0, the next will be 1, and so on. "
   ]
  },
  {
   "cell_type": "markdown",
   "metadata": {},
   "source": [
    "**Add Attributes**"
   ]
  },
  {
   "cell_type": "markdown",
   "metadata": {},
   "source": [
    "The add_node_attribute() and add_edge_attribute() methods require the ID in the \"property_of\" field and the property \"name\" and \"values\" in their respective fields."
   ]
  },
  {
   "cell_type": "code",
   "execution_count": null,
   "metadata": {},
   "outputs": [],
   "source": [
    "print(cx2_creatures)\n",
    "cx2_creatures.add_node_attribute(fox_node, key='Color', value='Red')\n",
    "\n",
    "cx2_creatures.add_node_attribute(mouse_node, key='Color', value='Gray')\n",
    "\n",
    "cx2_creatures.add_node_attribute(bird_node, key='Color', value='Blue')"
   ]
  },
  {
   "cell_type": "code",
   "execution_count": null,
   "metadata": {},
   "outputs": [],
   "source": [
    "cx2_creatures.add_edge_attribute(fox_mouse_edge, key='Hunted', value='On the ground')"
   ]
  },
  {
   "cell_type": "markdown",
   "metadata": {},
   "source": [
    "We can now print network attributes, nodes and edges of cx2_creatures."
   ]
  },
  {
   "cell_type": "code",
   "execution_count": null,
   "metadata": {},
   "outputs": [],
   "source": [
    "print('network_attributes:', cx2_creatures.get_network_attributes())\n",
    "print('nodes:', cx2_creatures.get_nodes())\n",
    "print('edges:', cx2_creatures.get_edges())"
   ]
  },
  {
   "cell_type": "markdown",
   "metadata": {},
   "source": [
    "## CX2 Files"
   ]
  },
  {
   "cell_type": "code",
   "execution_count": null,
   "metadata": {},
   "outputs": [],
   "source": [
    "# Create CX2Network factory\n",
    "factory = RawCX2NetworkFactory()\n",
    "\n",
    "cx2_from_cx_file = factory.get_cx2network('SimpleNetwork.cx2')\n",
    "\n",
    "print('network_attributes:', cx2_from_cx_file.get_network_attributes())\n",
    "print('nodes:', cx2_from_cx_file.get_nodes())\n",
    "print('edges:', cx2_from_cx_file.get_edges())"
   ]
  },
  {
   "cell_type": "markdown",
   "metadata": {},
   "source": [
    "## NDEx Networks"
   ]
  },
  {
   "cell_type": "code",
   "execution_count": null,
   "metadata": {},
   "outputs": [],
   "source": [
    "network_uuid='f1dd6cc3-0007-11e6-b550-06603eb7f303'\n",
    "\n",
    "# Create NDEx2 python client\n",
    "client = ndex2.client.Ndex2(host='ndexbio.org')\n",
    "\n",
    "# Create CX2Network factory\n",
    "factory = RawCX2NetworkFactory()\n",
    "\n",
    "# Get network as cx2 stream\n",
    "client_resp = client.get_network_as_cx2_stream(network_uuid)\n",
    "\n",
    "# Convert downloaded network to CX2Network object\n",
    "cx2_from_server = factory.get_cx2network(json.loads(client_resp.content))\n",
    "\n",
    "print('network_attributes:', cx2_from_server.get_network_attributes())\n",
    "print('nodes:', len(cx2_from_server.get_nodes()))\n",
    "print('edges:', len(cx2_from_server.get_edges()))"
   ]
  },
  {
   "cell_type": "markdown",
   "metadata": {},
   "source": [
    "## NetworkX Networks"
   ]
  },
  {
   "cell_type": "markdown",
   "metadata": {},
   "source": [
    "Networks can be manipulated using NetworkX facilities and then used to create a CX2 network. Here we create a NetworkX network from scratch:"
   ]
  },
  {
   "cell_type": "code",
   "execution_count": null,
   "metadata": {
    "scrolled": true
   },
   "outputs": [],
   "source": [
    "G = nx.Graph()\n",
    "G.add_node(1, name='ABC')\n",
    "G.add_node(2, name='DEF')\n",
    "G.add_node(3, name='GHI')\n",
    "G.add_node(4, name='JKL')\n",
    "G.add_node(5, name='MNO')\n",
    "G.add_node(6, name='PQR')\n",
    "G.add_node(7, name='XYZ')\n",
    "G.add_edges_from([(1,2), (2, 3),(3, 4), \n",
    "                  (2, 4), (4, 5), (2, 5),\n",
    "                  (5, 7), (2, 6)])"
   ]
  },
  {
   "cell_type": "markdown",
   "metadata": {},
   "source": [
    "We now use NetworkX to find the shortest path between nodes ABC and MNO and then create a subgraph from that path."
   ]
  },
  {
   "cell_type": "code",
   "execution_count": null,
   "metadata": {},
   "outputs": [],
   "source": [
    "short_path = nx.shortest_path(G,source=1,target=5)\n",
    "\n",
    "path_subgraph = G.subgraph(short_path)"
   ]
  },
  {
   "cell_type": "markdown",
   "metadata": {},
   "source": [
    "Finally, CX2 objects are created from both *G* and *path_subgraph*."
   ]
  },
  {
   "cell_type": "code",
   "execution_count": null,
   "metadata": {},
   "outputs": [],
   "source": [
    "networkx_factory = NetworkXToCX2NetworkFactory()\n",
    "\n",
    "G.name = 'Created from NetworkX (full)'\n",
    "cx2_full = networkx_factory.get_cx2network(G)\n",
    "\n",
    "G.name = 'Created from NetworkX (shortest path)'\n",
    "cx2_short = networkx_factory.get_cx2network(path_subgraph)\n",
    "                       \n",
    "print('network_attributes:', cx2_full.get_network_attributes())\n",
    "print('nodes:', len(cx2_full.get_nodes()))\n",
    "print('edges:', len(cx2_full.get_edges()))\n",
    "print(G.edges())\n",
    "print('')\n",
    "\n",
    "print('network_attributes:', cx2_short.get_network_attributes())\n",
    "print('nodes:', len(cx2_short.get_nodes()))\n",
    "print('edges:', len(cx2_short.get_edges()))\n",
    "print(path_subgraph.edges())"
   ]
  },
  {
   "cell_type": "markdown",
   "metadata": {},
   "source": [
    "## Pandas DataFrames"
   ]
  },
  {
   "cell_type": "markdown",
   "metadata": {},
   "source": [
    "### 2 Column DataFrame with No Headers:"
   ]
  },
  {
   "cell_type": "code",
   "execution_count": null,
   "metadata": {},
   "outputs": [],
   "source": [
    "data = [('ABC', 'DEF'), ('DEF', 'XYZ')]\n",
    "\n",
    "df = pd.DataFrame.from_records(data)\n",
    "\n",
    "pd_factory = PandasDataFrameToCX2NetworkFactory()\n",
    "\n",
    "cx2_df_2_column = pd_factory.get_cx2network(df, source_field=0, target_field=1)\n",
    "\n",
    "print('network_attributes:', cx2_df_2_column.get_network_attributes())\n",
    "print('nodes:', len(cx2_df_2_column.get_nodes()))\n",
    "print('edges:', len(cx2_df_2_column.get_edges()))\n",
    "\n",
    "#===========================\n",
    "# CONVERT BACK TO DATAFRAME\n",
    "#===========================\n",
    "\n",
    "cx2_pd_factory = CX2NetworkPandasDataFrameFactory()\n",
    "df_2_col_from_cx2 = cx2_pd_factory.get_dataframe(cx2_df_2_column)\n",
    "df_2_col_from_cx2"
   ]
  },
  {
   "cell_type": "markdown",
   "metadata": {},
   "source": [
    "### 3 Column DataFrame with No Headers:"
   ]
  },
  {
   "cell_type": "code",
   "execution_count": null,
   "metadata": {},
   "outputs": [],
   "source": [
    "data = [('ABC', 'DEF', 'interacts-with'), ('DEF', 'XYZ', 'neighbor-of')]\n",
    "\n",
    "df = pd.DataFrame.from_records(data)\n",
    "\n",
    "# Rename 3rd column for it to be considered as edge interaction\n",
    "df.rename(columns={2: 'interaction'}, inplace=True)\n",
    "\n",
    "cx2_df_3_column = pd_factory.get_cx2network(df, source_field=0, target_field=1)\n",
    "\n",
    "print('network_attributes:', cx2_df_3_column.get_network_attributes())\n",
    "print('nodes:', len(cx2_df_3_column.get_nodes()))\n",
    "print('edges:', len(cx2_df_3_column.get_edges()))\n",
    "\n",
    "#===========================\n",
    "# CONVERT BACK TO DATAFRAME\n",
    "#===========================\n",
    "df_3_col_from_cx2 = cx2_pd_factory.get_dataframe(cx2_df_3_column)\n",
    "df_3_col_from_cx2"
   ]
  },
  {
   "cell_type": "markdown",
   "metadata": {},
   "source": [
    "### 3+ Column DataFrame with Headers to Specify Attribute Columns"
   ]
  },
  {
   "cell_type": "code",
   "execution_count": null,
   "metadata": {},
   "outputs": [],
   "source": [
    "df = pd.DataFrame.from_dict(dict([('source', ['ABC', 'DEF']),\n",
    "                              ('target', ['DEF', 'XYZ']),\n",
    "                              ('interaction', ['interacts-with', 'neighbor-of']),\n",
    "                              ('edgeProp', ['Edge property 1', 'Edge property 2'])]))\n",
    "\n",
    "cx2_df_with_headers = pd_factory.get_cx2network(df, source_field='source', target_field='target')\n",
    "\n",
    "print('network_attributes:', cx2_df_with_headers.get_network_attributes())\n",
    "print('nodes:', len(cx2_df_with_headers.get_nodes()))\n",
    "print('edges:', len(cx2_df_with_headers.get_edges()))\n",
    "\n",
    "#===========================\n",
    "# CONVERT BACK TO DATAFRAME\n",
    "#===========================\n",
    "df_headers_from_cx2 = cx2_pd_factory.get_dataframe(cx2_df_with_headers)\n",
    "df_headers_from_cx2"
   ]
  },
  {
   "cell_type": "markdown",
   "metadata": {
    "collapsed": true,
    "jupyter": {
     "outputs_hidden": true
    }
   },
   "source": [
    "### Exporting a Larger and More Complex Network"
   ]
  },
  {
   "cell_type": "markdown",
   "metadata": {
    "collapsed": true,
    "jupyter": {
     "outputs_hidden": true
    }
   },
   "source": [
    "More complex networks can be output to a Pandas DataFrame as well. In the following example we convert the example network we loaded from the server."
   ]
  },
  {
   "cell_type": "code",
   "execution_count": null,
   "metadata": {},
   "outputs": [],
   "source": [
    "#======================\n",
    "# CONVERT TO DATAFRAME\n",
    "#======================\n",
    "cx2_from_server_df = cx2_pd_factory.get_dataframe(cx2_from_server)\n",
    "print(cx2_from_server_df)"
   ]
  },
  {
   "cell_type": "markdown",
   "metadata": {},
   "source": [
    "Likewise, networks can be output as a networkx graph."
   ]
  },
  {
   "cell_type": "code",
   "execution_count": null,
   "metadata": {},
   "outputs": [],
   "source": [
    "#=====================\n",
    "# CONVERT TO NETWORKX\n",
    "#=====================\n",
    "networkx_factory = CX2NetworkXFactory()\n",
    "\n",
    "cx2_from_server_to_netx = networkx_factory.get_graph(cx2_from_server)\n",
    "\n",
    "print(cx2_from_server_to_netx)"
   ]
  },
  {
   "cell_type": "markdown",
   "metadata": {},
   "source": [
    "**To continue with the tutorial, you must edit the following cell to replace the values of the ‘my_account’ and ‘my_password’ variables with a real NDEx account name and password.**"
   ]
  },
  {
   "cell_type": "code",
   "execution_count": null,
   "metadata": {},
   "outputs": [],
   "source": [
    "my_account=\"enter your username here\"\n",
    "my_password=\"enter your password here\"\n",
    "my_server=\"http://ndexbio.org\"\n",
    "my_ndex = None\n",
    "if my_account == 'enter your username here':\n",
    "    print('*******WARNING!!!!*******')\n",
    "    print('Please change the username and password before proceeding')\n",
    "else:\n",
    "    try:\n",
    "        my_ndex=nc.Ndex2(my_server, my_account, my_password)\n",
    "        my_ndex.update_status()\n",
    "        print(\"Success.  Please continue.\")\n",
    "    except Exception as inst:\n",
    "        print(\"Could not access account %s with password %s\" % (my_account, my_password))\n",
    "        print(inst.args)"
   ]
  },
  {
   "cell_type": "markdown",
   "metadata": {},
   "source": [
    "CX2 networks can be saved to the NDEx server by calling **save_new_cx2_network()**"
   ]
  },
  {
   "cell_type": "code",
   "execution_count": null,
   "metadata": {},
   "outputs": [],
   "source": [
    "if not my_ndex:\n",
    "    print('*******WARNING!!!!*******')\n",
    "    print('Please change the username and password before proceeding')\n",
    "else:\n",
    "    upload_message = my_ndex.save_new_cx2_network(cx2_df_with_headers.to_cx2(), visibility='PRIVATE')\n",
    "    print(upload_message)"
   ]
  },
  {
   "cell_type": "markdown",
   "metadata": {
    "collapsed": true,
    "jupyter": {
     "outputs_hidden": true
    }
   },
   "source": [
    "## Accessing nodes, edges, attributes, etc... <a class=\"anchor\" id=\"first-bullet\"></a>"
   ]
  },
  {
   "cell_type": "markdown",
   "metadata": {},
   "source": [
    "### Nodes"
   ]
  },
  {
   "cell_type": "code",
   "execution_count": null,
   "metadata": {},
   "outputs": [],
   "source": [
    "# EXAMPLE NETWORK FROM NDEx\n",
    "uuid='f1dd6cc3-0007-11e6-b550-06603eb7f303'\n",
    "\n",
    "# Create NDEx2 python client\n",
    "client = ndex2.client.Ndex2(host='ndexbio.org')\n",
    "\n",
    "# Create CX2Network factory\n",
    "factory = RawCX2NetworkFactory()\n",
    "\n",
    "# Get network as cx2 stream\n",
    "client_resp = client.get_network_as_cx2_stream(uuid)\n",
    "\n",
    "# Convert downloaded network to CX2Network object\n",
    "cx2_network = factory.get_cx2network(json.loads(client_resp.content))"
   ]
  },
  {
   "cell_type": "markdown",
   "metadata": {},
   "source": [
    "Loop through all **nodes** and print when we reach the RAD52 node"
   ]
  },
  {
   "cell_type": "code",
   "execution_count": null,
   "metadata": {},
   "outputs": [],
   "source": [
    "for node_id, node in cx2_network.get_nodes().items():\n",
    "    if node.get(constants.ASPECT_VALUES).get('name') == 'RAD52':\n",
    "        print(node)\n",
    "        break"
   ]
  },
  {
   "cell_type": "markdown",
   "metadata": {},
   "source": [
    "Nodes and edges are indexed by id.  To look up a specific node by it's _name_ you use ``lookup_node_id_by_name`` method."
   ]
  },
  {
   "cell_type": "code",
   "execution_count": null,
   "metadata": {},
   "outputs": [],
   "source": [
    "#========================\n",
    "# GET THE 'MAP2K1' NODE\n",
    "#========================\n",
    "map2k1_node_id = cx2_network.lookup_node_id_by_name( 'MAP2K1' )\n",
    "map2k1_node = cx2_network.get_node(map2k1_node_id)\n",
    "print(map2k1_node)"
   ]
  },
  {
   "cell_type": "markdown",
   "metadata": {},
   "source": [
    "### Node attributes\n",
    "\n",
    "Get the node attribute (Pathway) for MAP2K1"
   ]
  },
  {
   "cell_type": "code",
   "execution_count": null,
   "metadata": {},
   "outputs": [],
   "source": [
    "map2k1_pathway_attribute = cx2_network.get_node(map2k1_node_id).get(constants.ASPECT_VALUES).get('Pathway')\n",
    "print(map2k1_pathway_attribute)"
   ]
  },
  {
   "cell_type": "markdown",
   "metadata": {},
   "source": [
    "### Edges\n",
    "\n",
    "Print all the **edges** where MAP2K1 is either a source or target"
   ]
  },
  {
   "cell_type": "code",
   "execution_count": null,
   "metadata": {},
   "outputs": [],
   "source": [
    "map2k1_edges = []\n",
    "\n",
    "for edge_id, edge in cx2_network.get_edges().items():\n",
    "    if edge.get('s') == map2k1_node_id or edge.get('t') == map2k1_node_id:\n",
    "        map2k1_edges.append(edge.get('id'))\n",
    "\n",
    "        print(edge)\n"
   ]
  },
  {
   "cell_type": "markdown",
   "metadata": {},
   "source": [
    "Or, if you would like to see the node labels represented in these edges you can look up and print the node name"
   ]
  },
  {
   "cell_type": "code",
   "execution_count": null,
   "metadata": {},
   "outputs": [],
   "source": [
    "for edge_id, edge in cx2_network.get_edges().items():\n",
    "    if edge.get('s') == map2k1_node_id or edge.get('t') == map2k1_node_id:\n",
    "        source_node = cx2_network.get_node( edge.get('s') )\n",
    "        target_node = cx2_network.get_node( edge.get('t') )\n",
    "        print('Source: %s Target: %s Interaction: %s' % (source_node.get(constants.ASPECT_VALUES).get('name'), target_node.get(constants.ASPECT_VALUES).get('name'), edge.get(constants.ASPECT_VALUES).get('interaction')))"
   ]
  },
  {
   "cell_type": "markdown",
   "metadata": {},
   "source": [
    "### Edge attributes\n",
    "\n",
    "Print the **edge attributes** (yeastSscore) for MAP2K1 edges"
   ]
  },
  {
   "cell_type": "code",
   "execution_count": null,
   "metadata": {},
   "outputs": [],
   "source": [
    "for edge_id in map2k1_edges:\n",
    "    print(cx2_network.get_edge(edge_id).get(constants.ASPECT_VALUES).get('yeastSscore'))\n"
   ]
  },
  {
   "cell_type": "markdown",
   "metadata": {},
   "source": [
    "### Network attributes\n",
    "\n",
    "Print the reference attribute for this network"
   ]
  },
  {
   "cell_type": "code",
   "execution_count": null,
   "metadata": {},
   "outputs": [],
   "source": [
    "cx2_network.get_network_attributes().get('reference')"
   ]
  },
  {
   "cell_type": "markdown",
   "metadata": {},
   "source": [
    "Or print the html content in the value field"
   ]
  },
  {
   "cell_type": "code",
   "execution_count": null,
   "metadata": {},
   "outputs": [],
   "source": [
    "from IPython.core.display import display, HTML\n",
    "\n",
    "display(HTML(cx2_network.get_network_attributes().get('reference')))"
   ]
  },
  {
   "cell_type": "code",
   "execution_count": null,
   "metadata": {},
   "outputs": [],
   "source": []
  }
 ],
 "metadata": {
  "anaconda-cloud": {},
  "kernelspec": {
   "display_name": "Python 3 (ipykernel)",
   "language": "python",
   "name": "python3"
  },
  "language_info": {
   "codemirror_mode": {
    "name": "ipython",
    "version": 3
   },
   "file_extension": ".py",
   "mimetype": "text/x-python",
   "name": "python",
   "nbconvert_exporter": "python",
   "pygments_lexer": "ipython3",
   "version": "3.8.18"
  }
 },
 "nbformat": 4,
 "nbformat_minor": 4
}
