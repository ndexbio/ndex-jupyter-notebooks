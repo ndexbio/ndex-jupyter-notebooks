{
 "cells": [
  {
   "cell_type": "markdown",
   "metadata": {},
   "source": [
    "# CX2Network: Access node, edge, and network attributes"
   ]
  },
  {
   "cell_type": "code",
   "execution_count": 2,
   "metadata": {},
   "outputs": [],
   "source": [
    "from ndex2.cx2 import CX2Network, RawCX2NetworkFactory\n",
    "from ndex2 import constants\n",
    "import ndex2.client as nc\n",
    "import ndex2\n",
    "import networkx as nx\n",
    "import pandas as pd\n",
    "import os\n",
    "import json"
   ]
  },
  {
   "cell_type": "code",
   "execution_count": 3,
   "metadata": {},
   "outputs": [],
   "source": [
    "# EXAMPLE NETWORK FROM NDEx\n",
    "\n",
    "uuid='f1dd6cc3-0007-11e6-b550-06603eb7f303'\n",
    "\n",
    "# Create NDEx2 python client\n",
    "client = ndex2.client.Ndex2(host='ndexbio.org')\n",
    "\n",
    "# Create CX2Network factory\n",
    "factory = RawCX2NetworkFactory()\n",
    "\n",
    "# Get network as cx2 stream\n",
    "client_resp = client.get_network_as_cx2_stream(uuid)\n",
    "\n",
    "# Convert downloaded network to CX2Network object\n",
    "cx2_network = factory.get_cx2network(json.loads(client_resp.content))"
   ]
  },
  {
   "cell_type": "markdown",
   "metadata": {},
   "source": [
    "### Nodes"
   ]
  },
  {
   "cell_type": "markdown",
   "metadata": {},
   "source": [
    "Loop through all **nodes** and print when we reach the RAD52 node"
   ]
  },
  {
   "cell_type": "code",
   "execution_count": 4,
   "metadata": {},
   "outputs": [
    {
     "name": "stdout",
     "output_type": "stream",
     "text": [
      "{'id': 1114201, 'v': {'name': 'RAD52', 'entrezgene': 5893, 'Yeast (systematic)': 'YML032C', 'EnrichedFunction2': '', 'Category': 'TSG', 'Pathway': 'DNA Damage Control', 'Color': '', 'mut/length ratio': 0.012, 'Mut_count': 31, 'Yeast (standard)': 'RAD52', 'drug status': 'n/a', 'FunctionLabel': 'DNA recombination', 'drug': 'n/a', 'AltFnLabel': 'Homologous recombination', 'ProcessList': 'double-strand break repair via homologous recombination|DNA recombinase assembly|DNA metabolic process|DNA repair|double-strand break repair|DNA recombination|response to stress|biological_process|cellular response to oxidative stress', 'Functional Categor': 'Genome Maintenance', 'molecular function': '', 'Synonym': 'E9PF95|RAD52|E9PF95_HUMAN', 'biological process': 'DNA recombinase assembly|double-strand break repair via single-strand annealing', 'Mutation Frequency': 0.0067, 'DB_Object_Name': 'DNA repair protein RAD52 homolog'}, 'x': -516.2893336879745, 'y': -15.998864721426372, 'z': None}\n"
     ]
    }
   ],
   "source": [
    "for node_id, node in cx2_network.get_nodes().items():\n",
    "    if node.get('v')['name'] == 'RAD52':\n",
    "        print(node)\n",
    "        break"
   ]
  },
  {
   "cell_type": "markdown",
   "metadata": {},
   "source": [
    "Nodes and edges are indexed by id (@id from the example above).  To look up a specific node by it's _name_ you can create a reverse look up index as follows"
   ]
  },
  {
   "cell_type": "code",
   "execution_count": 5,
   "metadata": {},
   "outputs": [
    {
     "name": "stdout",
     "output_type": "stream",
     "text": [
      "{'id': 1114200, 'v': {'name': 'MAP2K1', 'entrezgene': 5604, 'Yeast (systematic)': 'YJL128C', 'EnrichedFunction2': '', 'Category': 'druggable,TSG', 'Pathway': 'Signal Transduction / Growth Regulation', 'Color': '1.0', 'mut/length ratio': 0.024, 'Mut_count': 61, 'Yeast (standard)': 'PBS2', 'drug status': 'Phase 2', 'FunctionLabel': 'cell cycle', 'drug': 'PD0325901', 'AltFnLabel': 'MAPK signaling', 'ProcessList': 'MAPK cascade|activation of MAPKK activity|cell morphogenesis|regulation of protein phosphorylation|cellular protein modification process|protein phosphorylation|cellular component movement|response to stress|response to oxidative stress|cell cycle|cell cycle arrest|mitotic nuclear division|signal transduction|small GTPase mediated signal transduction|Ras protein signal transduction|biological_process|pathogenesis|positive regulation of gene expression|peptidyl-tyrosine phosphorylation|regulation of stress-activated MAPK cascade|positive regulation of transcription elongation from RNA polymerase II promoter|positive regulation of GTPase activity|positive regulation of Ras protein signal transduction|Golgi inheritance', 'Functional Categor': 'Cell Survival', 'molecular function': 'protein kinase activity|protein serine/threonine kinase activity|MAP kinase kinase activity|protein serine/threonine/tyrosine kinase activity|protein tyrosine kinase activity|receptor signaling protein tyrosine phosphatase activity|protein binding|ATP binding|protein C-terminus binding|Ras GTPase binding|mitogen-activated protein kinase kinase kinase binding|protein serine/threonine kinase activator activity|protein N-terminus binding', 'Synonym': 'Q02750|MAP2K1|MP2K1_HUMAN|MEK1|PRKMK1', 'biological process': 'MAPK cascade|activation of MAPKK activity|activation of MAPK activity|toll-like receptor signaling pathway|MyD88-dependent toll-like receptor signaling pathway|MyD88-independent toll-like receptor signaling pathway|regulation of vascular smooth muscle contraction|movement of cell or subcellular component|chemotaxis|response to oxidative stress|cell cycle arrest|mitotic nuclear division|signal transduction|epidermal growth factor receptor signaling pathway|small GTPase mediated signal transduction|Ras protein signal transduction|axon guidance|negative regulation of cell proliferation|insulin receptor signaling pathway|fibroblast growth factor receptor signaling pathway|positive regulation of gene expression|peptidyl-tyrosine phosphorylation|neuron differentiation|keratinocyte differentiation|positive regulation of cell migration|melanosome transport|regulation of stress-activated MAPK cascade|positive regulation of transcription elongation from RNA polymerase II promoter|negative regulation of homotypic cell-cell adhesion|toll-like receptor 2 signaling pathway|toll-like receptor 3 signaling pathway|toll-like receptor 4 signaling pathway|toll-like receptor 5 signaling pathway|toll-like receptor 9 signaling pathway|toll-like receptor 10 signaling pathway|TRIF-dependent toll-like receptor signaling pathway|Fc-epsilon receptor signaling pathway|toll-like receptor TLR1:TLR2 signaling pathway|toll-like receptor TLR6:TLR2 signaling pathway|positive regulation of GTPase activity|innate immune response|positive regulation of Ras protein signal transduction|vesicle transport along microtubule|vascular endothelial growth factor receptor signaling pathway|neurotrophin TRK receptor signaling pathway|Golgi inheritance|response to axon injury|regulation of axon regeneration|cell motility|positive regulation of axonogenesis|protein heterooligomerization|response to glucocorticoid|stress-activated MAPK cascade|trachea formation|epithelial cell proliferation involved in lung morphogenesis|placenta blood vessel development|labyrinthine layer development|ERK1 and ERK2 cascade|positive regulation of protein serine/threonine kinase activity|regulation of Golgi inheritance|cellular senescence|activation of mitophagy in response to mitochondrial depolarization|regulation of early endosome to late endosome transport', 'Mutation Frequency': 0.0112, 'DB_Object_Name': 'Dual specificity mitogen-activated protein kinase kinase 1'}, 'x': -200.48562622070312, 'y': -354.7113952636719, 'z': None}\n"
     ]
    }
   ],
   "source": [
    "#============================\n",
    "# CREATE A NAME to ID LOOKUP \n",
    "#============================\n",
    "node_name_lookup = {node.get('v').get('name', None): node_id for node_id, node in cx2_network.get_nodes().items()}\n",
    "\n",
    "#========================\n",
    "# GET THE 'MAP2K1' NODE\n",
    "#========================\n",
    "map2k1_node_id = node_name_lookup.get('MAP2K1')\n",
    "map2k1_node = cx2_network.get_node( map2k1_node_id )\n",
    "print(map2k1_node)\n",
    "\n",
    "#========================================================\n",
    "# GET THE 'MAP2K1' NODE (USING METHOD FROM CX2NETWORK)\n",
    "#========================================================\n",
    "map2k1_node_id = cx2_network.lookup_node_id_by_name( 'MAP2K1' )\n",
    "map2k1_node = cx2_network.get_node(map2k1_node_id)"
   ]
  },
  {
   "cell_type": "markdown",
   "metadata": {},
   "source": [
    "### Node attributes\n",
    "\n",
    "Get the node attribute (Pathway) for MAP2K1"
   ]
  },
  {
   "cell_type": "code",
   "execution_count": 6,
   "metadata": {},
   "outputs": [
    {
     "name": "stdout",
     "output_type": "stream",
     "text": [
      "Signal Transduction / Growth Regulation\n"
     ]
    }
   ],
   "source": [
    "map2k1_pathway_attribute = cx2_network.get_node(map2k1_node_id).get(constants.ASPECT_VALUES).get('Pathway')\n",
    "print(map2k1_pathway_attribute)"
   ]
  },
  {
   "cell_type": "markdown",
   "metadata": {},
   "source": [
    "### Edges\n",
    "\n",
    "Print all the **edges** where MAP2K1 is either a source or target"
   ]
  },
  {
   "cell_type": "code",
   "execution_count": 7,
   "metadata": {},
   "outputs": [
    {
     "name": "stdout",
     "output_type": "stream",
     "text": [
      "{'id': 1114251, 's': 1114200, 't': 1114208, 'v': {'Product': 2.660014701, 'yeastSscore': -4.896, 'T-stat': -3.025, 'yeast2': 'YBL016W', 'HumanRanks': 1486, 'yeast1': 'YJL128C', 'name': 'MAP2K1 (pp) MAPK1', 'druggable': 'MAP2K1', 'interaction': 'pp', 'prior report of SL': 'no', 'YeastRanks': 1692, 'humanFDRnegLog10': 0.879, 'ProductRanks': 0.847916085, 'TS': 'MAPK1'}}\n",
      "{'id': 1114250, 's': 1114200, 't': 1114201, 'v': {'Product': 3.495852536, 'yeastSscore': -4.649, 'T-stat': -3.349, 'yeast2': 'YML032C', 'HumanRanks': 1521, 'yeast1': 'YJL128C', 'name': 'MAP2K1 (pp) RAD52', 'druggable': 'MAP2K1', 'interaction': 'pp', 'prior report of SL': 'no', 'YeastRanks': 1688, 'humanFDRnegLog10': 1.044, 'ProductRanks': 0.865835448, 'TS': 'RAD52'}}\n"
     ]
    }
   ],
   "source": [
    "map2k1_edges = []\n",
    "\n",
    "for edge_id, edge in cx2_network.get_edges().items():\n",
    "    if edge.get('s') == map2k1_node_id or edge.get('t') == map2k1_node_id:\n",
    "        map2k1_edges.append(edge.get('id'))\n",
    "\n",
    "        print(edge)\n"
   ]
  },
  {
   "cell_type": "markdown",
   "metadata": {},
   "source": [
    "Or, if you would like to see the node labels represented in these edges you can look up and print the node name"
   ]
  },
  {
   "cell_type": "code",
   "execution_count": 8,
   "metadata": {},
   "outputs": [
    {
     "name": "stdout",
     "output_type": "stream",
     "text": [
      "Source: MAP2K1 Target: MAPK1 Interaction: pp\n",
      "Source: MAP2K1 Target: RAD52 Interaction: pp\n"
     ]
    }
   ],
   "source": [
    "for edge_id, edge in cx2_network.get_edges().items():\n",
    "    if edge.get('s') == map2k1_node_id or edge.get('t') == map2k1_node_id:\n",
    "        source_node = cx2_network.get_node( edge.get('s') )\n",
    "        target_node = cx2_network.get_node( edge.get('t') )\n",
    "        print('Source: %s Target: %s Interaction: %s' % (source_node.get(constants.ASPECT_VALUES).get('name'), target_node.get(constants.ASPECT_VALUES).get('name'), edge.get(constants.ASPECT_VALUES).get('interaction')))"
   ]
  },
  {
   "cell_type": "markdown",
   "metadata": {},
   "source": [
    "### Edge attributes\n",
    "\n",
    "Print the **edge attributes** (yeastSscore) for MAP2K1 edges"
   ]
  },
  {
   "cell_type": "code",
   "execution_count": 9,
   "metadata": {},
   "outputs": [
    {
     "name": "stdout",
     "output_type": "stream",
     "text": [
      "-4.896\n",
      "-4.649\n"
     ]
    }
   ],
   "source": [
    "for edge_id in map2k1_edges:\n",
    "    print(cx2_network.get_edge(edge_id).get(constants.ASPECT_VALUES).get('yeastSscore'))\n"
   ]
  },
  {
   "cell_type": "markdown",
   "metadata": {},
   "source": [
    "### Network attributes\n",
    "\n",
    "Print the reference attribute for this network"
   ]
  },
  {
   "cell_type": "code",
   "execution_count": 10,
   "metadata": {},
   "outputs": [
    {
     "data": {
      "text/plain": [
       "'<div style=\"font-size: 12px;\"><i><span style=\"float: none;\">Srivas R, Shen JP, Yang CC, Sun SM, Li J,</span><br/></i><span style=\"float: none;\"><i>Gross AM, Jensen J, Licon K, Bojorquez-Gomez A, Klepper K, Huang J, Pekin D, Xu\\xa0JL, Yeerna H, Sivaganesh V, Kollenstart L, van Attikum H, Aza-Blanc P, Sobol\\xa0RW, Ideker T</i>.\\xa0</span><b><b>A network of conserved synthetic lethal interactions for exploration\\xa0</b></b><b><b>of precision cancer therapy</b></b><span style=\"float: none;\">.</span></div><div style=\"font-size: 12px;\"><span style=\"float: none;\">Mol Cell. 2016 Aug 4;63(3):514-25.</span><br/><a href=\"http://doi.org/10.1016/j.molcel.2016.06.022\" target=\"\">doi: 10.1016/j.molcel.2016.06.022</a></div>'"
      ]
     },
     "execution_count": 10,
     "metadata": {},
     "output_type": "execute_result"
    }
   ],
   "source": [
    "cx2_network.get_network_attributes().get('reference')"
   ]
  },
  {
   "cell_type": "markdown",
   "metadata": {},
   "source": [
    "Or print the html content in the value field"
   ]
  },
  {
   "cell_type": "code",
   "execution_count": 11,
   "metadata": {},
   "outputs": [
    {
     "name": "stderr",
     "output_type": "stream",
     "text": [
      "/var/folders/gx/bx0pj8d56_1920zjml13xtq00000gq/T/ipykernel_68259/4233257348.py:1: DeprecationWarning: Importing display from IPython.core.display is deprecated since IPython 7.14, please import from IPython display\n",
      "  from IPython.core.display import display, HTML\n"
     ]
    },
    {
     "data": {
      "text/html": [
       "<div style=\"font-size: 12px;\"><i><span style=\"float: none;\">Srivas R, Shen JP, Yang CC, Sun SM, Li J,</span><br/></i><span style=\"float: none;\"><i>Gross AM, Jensen J, Licon K, Bojorquez-Gomez A, Klepper K, Huang J, Pekin D, Xu JL, Yeerna H, Sivaganesh V, Kollenstart L, van Attikum H, Aza-Blanc P, Sobol RW, Ideker T</i>. </span><b><b>A network of conserved synthetic lethal interactions for exploration </b></b><b><b>of precision cancer therapy</b></b><span style=\"float: none;\">.</span></div><div style=\"font-size: 12px;\"><span style=\"float: none;\">Mol Cell. 2016 Aug 4;63(3):514-25.</span><br/><a href=\"http://doi.org/10.1016/j.molcel.2016.06.022\" target=\"\">doi: 10.1016/j.molcel.2016.06.022</a></div>"
      ],
      "text/plain": [
       "<IPython.core.display.HTML object>"
      ]
     },
     "metadata": {},
     "output_type": "display_data"
    }
   ],
   "source": [
    "from IPython.core.display import display, HTML\n",
    "\n",
    "display(HTML(cx2_network.get_network_attributes().get('reference')))"
   ]
  },
  {
   "cell_type": "code",
   "execution_count": null,
   "metadata": {
    "collapsed": true,
    "jupyter": {
     "outputs_hidden": true
    }
   },
   "outputs": [],
   "source": []
  }
 ],
 "metadata": {
  "anaconda-cloud": {},
  "kernelspec": {
   "display_name": "Python 3 (ipykernel)",
   "language": "python",
   "name": "python3"
  },
  "language_info": {
   "codemirror_mode": {
    "name": "ipython",
    "version": 3
   },
   "file_extension": ".py",
   "mimetype": "text/x-python",
   "name": "python",
   "nbconvert_exporter": "python",
   "pygments_lexer": "ipython3",
   "version": "3.8.18"
  }
 },
 "nbformat": 4,
 "nbformat_minor": 4
}
