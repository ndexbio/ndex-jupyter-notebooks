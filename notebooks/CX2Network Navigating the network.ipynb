{
 "cells": [
  {
   "cell_type": "markdown",
   "metadata": {},
   "source": [
    "# CX2Network: Access node, edge, and network attributes"
   ]
  },
  {
   "cell_type": "code",
   "execution_count": null,
   "metadata": {},
   "outputs": [],
   "source": [
    "from ndex2.cx2 import CX2Network, RawCX2NetworkFactory\n",
    "from ndex2 import constants\n",
    "import ndex2.client as nc\n",
    "import ndex2\n",
    "import networkx as nx\n",
    "import pandas as pd\n",
    "import os\n",
    "import json"
   ]
  },
  {
   "cell_type": "code",
   "execution_count": null,
   "metadata": {},
   "outputs": [],
   "source": [
    "# EXAMPLE NETWORK FROM NDEx\n",
    "\n",
    "uuid='f1dd6cc3-0007-11e6-b550-06603eb7f303'\n",
    "\n",
    "# Create NDEx2 python client\n",
    "client = ndex2.client.Ndex2(host='ndexbio.org')\n",
    "\n",
    "# Create CX2Network factory\n",
    "factory = RawCX2NetworkFactory()\n",
    "\n",
    "# Get network as cx2 stream\n",
    "client_resp = client.get_network_as_cx2_stream(uuid)\n",
    "\n",
    "# Convert downloaded network to CX2Network object\n",
    "cx2_network = factory.get_cx2network(json.loads(client_resp.content))"
   ]
  },
  {
   "cell_type": "markdown",
   "metadata": {},
   "source": [
    "### Nodes"
   ]
  },
  {
   "cell_type": "markdown",
   "metadata": {},
   "source": [
    "Loop through all **nodes** and print when we reach the RAD52 node"
   ]
  },
  {
   "cell_type": "code",
   "execution_count": null,
   "metadata": {},
   "outputs": [],
   "source": [
    "for node_id, node in cx2_network.get_nodes().items():\n",
    "    if node.get('v')['name'] == 'RAD52':\n",
    "        print(node)\n",
    "        break"
   ]
  },
  {
   "cell_type": "markdown",
   "metadata": {},
   "source": [
    "Nodes and edges are indexed by id (@id from the example above).  To look up a specific node by it's _name_ you can create a reverse look up index as follows"
   ]
  },
  {
   "cell_type": "code",
   "execution_count": null,
   "metadata": {},
   "outputs": [],
   "source": [
    "#============================\n",
    "# CREATE A NAME to ID LOOKUP \n",
    "#============================\n",
    "node_name_lookup = {node.get('v').get('name', None): node_id for node_id, node in cx2_network.get_nodes().items()}\n",
    "\n",
    "#========================\n",
    "# GET THE 'MAP2K1' NODE\n",
    "#========================\n",
    "map2k1_node_id = node_name_lookup.get('MAP2K1')\n",
    "map2k1_node = cx2_network.get_node( map2k1_node_id )\n",
    "print(map2k1_node)\n",
    "\n",
    "#========================================================\n",
    "# GET THE 'MAP2K1' NODE (USING METHOD FROM CX2NETWORK)\n",
    "#========================================================\n",
    "map2k1_node_id = cx2_network.lookup_node_id_by_name( 'MAP2K1' )\n",
    "map2k1_node = cx2_network.get_node(map2k1_node_id)"
   ]
  },
  {
   "cell_type": "markdown",
   "metadata": {},
   "source": [
    "### Node attributes\n",
    "\n",
    "Get the node attribute (Pathway) for MAP2K1"
   ]
  },
  {
   "cell_type": "code",
   "execution_count": null,
   "metadata": {},
   "outputs": [],
   "source": [
    "map2k1_pathway_attribute = cx2_network.get_node(map2k1_node_id).get(constants.ASPECT_VALUES).get('Pathway')\n",
    "print(map2k1_pathway_attribute)"
   ]
  },
  {
   "cell_type": "markdown",
   "metadata": {},
   "source": [
    "### Edges\n",
    "\n",
    "Print all the **edges** where MAP2K1 is either a source or target"
   ]
  },
  {
   "cell_type": "code",
   "execution_count": null,
   "metadata": {},
   "outputs": [],
   "source": [
    "map2k1_edges = []\n",
    "\n",
    "for edge_id, edge in cx2_network.get_edges().items():\n",
    "    if edge.get('s') == map2k1_node_id or edge.get('t') == map2k1_node_id:\n",
    "        map2k1_edges.append(edge.get('id'))\n",
    "\n",
    "        print(edge)\n"
   ]
  },
  {
   "cell_type": "markdown",
   "metadata": {},
   "source": [
    "Or, if you would like to see the node labels represented in these edges you can look up and print the node name"
   ]
  },
  {
   "cell_type": "code",
   "execution_count": null,
   "metadata": {},
   "outputs": [],
   "source": [
    "for edge_id, edge in cx2_network.get_edges().items():\n",
    "    if edge.get('s') == map2k1_node_id or edge.get('t') == map2k1_node_id:\n",
    "        source_node = cx2_network.get_node( edge.get('s') )\n",
    "        target_node = cx2_network.get_node( edge.get('t') )\n",
    "        print('Source: %s Target: %s Interaction: %s' % (source_node.get(constants.ASPECT_VALUES).get('name'), target_node.get(constants.ASPECT_VALUES).get('name'), edge.get(constants.ASPECT_VALUES).get('interaction')))"
   ]
  },
  {
   "cell_type": "markdown",
   "metadata": {},
   "source": [
    "### Edge attributes\n",
    "\n",
    "Print the **edge attributes** (yeastSscore) for MAP2K1 edges"
   ]
  },
  {
   "cell_type": "code",
   "execution_count": null,
   "metadata": {},
   "outputs": [],
   "source": [
    "for edge_id in map2k1_edges:\n",
    "    print(cx2_network.get_edge(edge_id).get(constants.ASPECT_VALUES).get('yeastSscore'))\n"
   ]
  },
  {
   "cell_type": "markdown",
   "metadata": {},
   "source": [
    "### Network attributes\n",
    "\n",
    "Print the reference attribute for this network"
   ]
  },
  {
   "cell_type": "code",
   "execution_count": null,
   "metadata": {},
   "outputs": [],
   "source": [
    "cx2_network.get_network_attributes().get('reference')"
   ]
  },
  {
   "cell_type": "markdown",
   "metadata": {},
   "source": [
    "Or print the html content in the value field"
   ]
  },
  {
   "cell_type": "code",
   "execution_count": null,
   "metadata": {},
   "outputs": [],
   "source": [
    "from IPython.display import display, HTML\n",
    "\n",
    "display(HTML(cx2_network.get_network_attributes().get('reference')))"
   ]
  },
  {
   "cell_type": "code",
   "execution_count": null,
   "metadata": {},
   "outputs": [],
   "source": []
  }
 ],
 "metadata": {
  "anaconda-cloud": {},
  "kernelspec": {
   "display_name": "Python 3 (ipykernel)",
   "language": "python",
   "name": "python3"
  },
  "language_info": {
   "codemirror_mode": {
    "name": "ipython",
    "version": 3
   },
   "file_extension": ".py",
   "mimetype": "text/x-python",
   "name": "python",
   "nbconvert_exporter": "python",
   "pygments_lexer": "ipython3",
   "version": "3.8.18"
  }
 },
 "nbformat": 4,
 "nbformat_minor": 4
}
