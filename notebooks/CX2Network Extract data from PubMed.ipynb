{
 "cells": [
  {
   "cell_type": "markdown",
   "metadata": {},
   "source": [
    "# Extract data from PubMed\n",
    "\n",
    "This notebook shows how to extract information from PubMed records. We will extract:\n",
    "\n",
    "1. Publication title\n",
    "2. Publication year\n",
    "3. Full names of authors\n",
    "4. Affiliation of each author\n",
    "\n",
    "By applying minor code modifications, additional information can be extracted, such as keywords or even the full abstract.\n",
    "\n",
    "The starting point is a small **example list** containing 3 pubmed ids.\n",
    "\n",
    "The ending point will be a network where **research institutes** and **publications** are the nodes, while the edges connecting them hold the details about **authors** and their **affiliations**. "
   ]
  },
  {
   "cell_type": "markdown",
   "metadata": {},
   "source": [
    "-----------------------------------------------------------------------------------"
   ]
  },
  {
   "cell_type": "markdown",
   "metadata": {},
   "source": [
    "### 1. Import packages, define functions and variables"
   ]
  },
  {
   "cell_type": "code",
   "execution_count": 29,
   "metadata": {},
   "outputs": [],
   "source": [
    "import xml.etree.ElementTree as ET\n",
    "from urllib.request import urlopen\n",
    "import pandas as pd\n",
    "\n",
    "counter = 0     # Used to compute the 'contribution score' when merging edges in code block [4]\n",
    "edges = dict()\n",
    "\n",
    "example_list = ['26046436', '32963239', '28793255']"
   ]
  },
  {
   "cell_type": "code",
   "execution_count": 30,
   "metadata": {},
   "outputs": [],
   "source": [
    "# Get the normalized institute name from affiliation\n",
    "def getInstitute(affiliation):\n",
    "    if 'Burnham' in affiliation:\n",
    "        return 'Sanford Burnham Prebys';\n",
    "    elif 'Scripps' in affiliation:\n",
    "        return 'The Scripps Research Institute';\n",
    "    elif 'Salk' in affiliation:\n",
    "        return 'Salk Institute'\n",
    "    elif 'University of California' in affiliation:\n",
    "        return 'UC San Diego'\n",
    "    elif 'La Jolla Institute for Allergy and Immunology' in affiliation:\n",
    "        return 'LJIAI'\n",
    "    else:\n",
    "        return 'Other'"
   ]
  },
  {
   "cell_type": "markdown",
   "metadata": {},
   "source": [
    "### 2. Extract information from PubMed element tree\n",
    "\n",
    "In the last part of this block of code, we merge all the edges in the **edges** dictionary that have the same source and target nodes and add the merge count to the dictionary. This will reduce the number of edges between a given instute and a given publication to 1."
   ]
  },
  {
   "cell_type": "code",
   "execution_count": 31,
   "metadata": {},
   "outputs": [],
   "source": [
    "edge_idx = {}\n",
    "\n",
    "for item in example_list:\n",
    "    efetch = \"http://eutils.ncbi.nlm.nih.gov/entrez/eutils/efetch.fcgi?&db=pubmed&retmode=xml&id=%s\" % (item)\n",
    "    handle = urlopen(efetch)\n",
    "    data = handle.read()\n",
    "    root = ET.fromstring(data)\n",
    "    \n",
    "    for article in root.findall(\"PubmedArticle\"):\n",
    "        pmid = article.find(\"MedlineCitation/PMID\").text\n",
    "        year = article.find(\"MedlineCitation/Article/Journal/JournalIssue/PubDate/Year\")\n",
    "        if year is None: year = 'NA'\n",
    "        else: year = year.text\n",
    "        aulist = article.findall(\"MedlineCitation/Article/AuthorList/Author\")\n",
    "        title = article.find(\"MedlineCitation/Article/ArticleTitle\")\n",
    "        \n",
    "        for author in aulist:\n",
    "            if author.find('AffiliationInfo'):\n",
    "                last_name = author[0].text\n",
    "                fore_name = author[1].text \n",
    "                affiliation = author.find('AffiliationInfo')[0].text\n",
    "                if \"San Diego\" in affiliation or 'La Jolla' in affiliation:\n",
    "                        institute = getInstitute(affiliation)\n",
    "                        \n",
    "                        # Merge edges and compute the 'contribution score'\n",
    "                        lookupKey = pmid + '_' + institute\n",
    "                        if lookupKey in edge_idx:\n",
    "                            oldRec = edges[edge_idx[lookupKey]]\n",
    "                            newRec = (oldRec[0],oldRec[1],oldRec[2] + ', ' + fore_name[0] + ' ' + last_name,oldRec[3],oldRec[4],oldRec[5], oldRec[6]+1)\n",
    "                            edges[edge_idx[lookupKey]] = newRec\n",
    "                        else:\n",
    "                            edges[counter] = (pmid, title.text, fore_name[0] + ' ' + last_name, affiliation, year, institute, 1)\n",
    "                            edge_idx[lookupKey] = counter\n",
    "                            counter += 1\n",
    "                        "
   ]
  },
  {
   "cell_type": "markdown",
   "metadata": {},
   "source": [
    "### 3. Create Pandas Dataframe"
   ]
  },
  {
   "cell_type": "code",
   "execution_count": 32,
   "metadata": {},
   "outputs": [
    {
     "data": {
      "text/html": [
       "<div>\n",
       "<style scoped>\n",
       "    .dataframe tbody tr th:only-of-type {\n",
       "        vertical-align: middle;\n",
       "    }\n",
       "\n",
       "    .dataframe tbody tr th {\n",
       "        vertical-align: top;\n",
       "    }\n",
       "\n",
       "    .dataframe thead th {\n",
       "        text-align: right;\n",
       "    }\n",
       "</style>\n",
       "<table border=\"1\" class=\"dataframe\">\n",
       "  <thead>\n",
       "    <tr style=\"text-align: right;\">\n",
       "      <th></th>\n",
       "      <th>pmid</th>\n",
       "      <th>title</th>\n",
       "      <th>author</th>\n",
       "      <th>affiliation</th>\n",
       "      <th>year</th>\n",
       "      <th>institute</th>\n",
       "      <th>contribution score</th>\n",
       "    </tr>\n",
       "  </thead>\n",
       "  <tbody>\n",
       "    <tr>\n",
       "      <th>0</th>\n",
       "      <td>26046436</td>\n",
       "      <td>Advancing Biological Understanding and Therape...</td>\n",
       "      <td>J Reed, M Jackson, A Pinkerton, T Chung</td>\n",
       "      <td>Conrad Prebys Center for Chemical Genomics, Sa...</td>\n",
       "      <td>2015</td>\n",
       "      <td>Sanford Burnham Prebys</td>\n",
       "      <td>4</td>\n",
       "    </tr>\n",
       "    <tr>\n",
       "      <th>1</th>\n",
       "      <td>26046436</td>\n",
       "      <td>Advancing Biological Understanding and Therape...</td>\n",
       "      <td>H Rosen, P Griffin, B Cravatt, P Hodder, W Rou...</td>\n",
       "      <td>Molecular Screening Center, The Scripps Resear...</td>\n",
       "      <td>2015</td>\n",
       "      <td>The Scripps Research Institute</td>\n",
       "      <td>6</td>\n",
       "    </tr>\n",
       "    <tr>\n",
       "      <th>2</th>\n",
       "      <td>32963239</td>\n",
       "      <td>Consensus transcriptional regulatory networks ...</td>\n",
       "      <td>R Pillich</td>\n",
       "      <td>Department of Medicine, University of Californ...</td>\n",
       "      <td>2020</td>\n",
       "      <td>UC San Diego</td>\n",
       "      <td>1</td>\n",
       "    </tr>\n",
       "    <tr>\n",
       "      <th>3</th>\n",
       "      <td>28793255</td>\n",
       "      <td>αE-Catenin Is a Positive Regulator of Pancreat...</td>\n",
       "      <td>R Pillich</td>\n",
       "      <td>Department of Medicine, UW Diabetes Institute,...</td>\n",
       "      <td>2017</td>\n",
       "      <td>UC San Diego</td>\n",
       "      <td>1</td>\n",
       "    </tr>\n",
       "  </tbody>\n",
       "</table>\n",
       "</div>"
      ],
      "text/plain": [
       "       pmid                                              title  \\\n",
       "0  26046436  Advancing Biological Understanding and Therape...   \n",
       "1  26046436  Advancing Biological Understanding and Therape...   \n",
       "2  32963239  Consensus transcriptional regulatory networks ...   \n",
       "3  28793255  αE-Catenin Is a Positive Regulator of Pancreat...   \n",
       "\n",
       "                                              author  \\\n",
       "0            J Reed, M Jackson, A Pinkerton, T Chung   \n",
       "1  H Rosen, P Griffin, B Cravatt, P Hodder, W Rou...   \n",
       "2                                          R Pillich   \n",
       "3                                          R Pillich   \n",
       "\n",
       "                                         affiliation  year  \\\n",
       "0  Conrad Prebys Center for Chemical Genomics, Sa...  2015   \n",
       "1  Molecular Screening Center, The Scripps Resear...  2015   \n",
       "2  Department of Medicine, University of Californ...  2020   \n",
       "3  Department of Medicine, UW Diabetes Institute,...  2017   \n",
       "\n",
       "                        institute  contribution score  \n",
       "0          Sanford Burnham Prebys                   4  \n",
       "1  The Scripps Research Institute                   6  \n",
       "2                    UC San Diego                   1  \n",
       "3                    UC San Diego                   1  "
      ]
     },
     "execution_count": 32,
     "metadata": {},
     "output_type": "execute_result"
    }
   ],
   "source": [
    "df = pd.DataFrame.from_dict(data = edges,\n",
    "                            orient='index',\n",
    "                            columns = ['pmid', 'title', 'author', 'affiliation',\n",
    "                                       'year', 'institute', 'contribution score'])\n",
    "df"
   ]
  },
  {
   "cell_type": "markdown",
   "metadata": {},
   "source": [
    "### 4. Create NiceCX network from Pandas\n",
    "\n",
    "Here we create a NiceCX network using the Pandas dataframe from the previous step.\n",
    "When creating the network, we specify what Pandas columns to use as source and target nodes, source and target node attributes as well as edge attributes. We also define a default edge interaction.\n",
    "\n",
    "The last 2 lines of code allow us to display the network in the notebook via the cyjupyter widget.\n"
   ]
  },
  {
   "cell_type": "code",
   "execution_count": 33,
   "metadata": {},
   "outputs": [
    {
     "name": "stdout",
     "output_type": "stream",
     "text": [
      "network_attributes: {}\n",
      "nodes: 6\n",
      "edges: 4\n"
     ]
    }
   ],
   "source": [
    "import ndex2\n",
    "from ndex2.cx2 import PandasDataFrameToCX2NetworkFactory\n",
    "from cyjupyter import Cytoscape\n",
    "\n",
    "pd_factory = PandasDataFrameToCX2NetworkFactory()\n",
    "cx2_from_df = pd_factory.get_cx2network(df, source_field='institute', target_field='pmid', source_node_attr=[], target_node_attr=['title', 'year'], edge_attr=['author', 'affiliation', 'contribution score'], edge_interaction='contributed to')\n",
    "\n",
    "print('network_attributes:', cx2_from_df.get_network_attributes())\n",
    "print('nodes:', len(cx2_from_df.get_nodes()))\n",
    "print('edges:', len(cx2_from_df.get_edges()))"
   ]
  },
  {
   "cell_type": "code",
   "execution_count": 34,
   "metadata": {},
   "outputs": [
    {
     "name": "stdout",
     "output_type": "stream",
     "text": [
      "network_attributes: {}\n",
      "nodes: 6\n",
      "edges: 4\n"
     ]
    }
   ],
   "source": [
    "# Set type attribute on \"institute\" nodes\n",
    "institutes_names = ['UC San Diego', 'The Scripps Research Institute', 'Salk Institute', 'Sanford Burnham Prebys', 'LJIAI', 'Other']\n",
    "\n",
    "for node_id, node in cx2_from_df.get_nodes().items():\n",
    "    for name in institutes_names:\n",
    "        if name in node.get('v')['name']:\n",
    "            cx2_from_df.add_node_attribute(node_id, 'type', 'research institute')\n",
    "        \n",
    "print('network_attributes:', cx2_from_df.get_network_attributes())\n",
    "print('nodes:', len(cx2_from_df.get_nodes()))\n",
    "print('edges:', len(cx2_from_df.get_edges()))"
   ]
  },
  {
   "cell_type": "code",
   "execution_count": 35,
   "metadata": {},
   "outputs": [],
   "source": [
    "# Set @context\n",
    "cx2_from_df.add_network_attribute('context', {'pubmed': 'https://www.ncbi.nlm.nih.gov/pubmed/'})"
   ]
  },
  {
   "cell_type": "code",
   "execution_count": 37,
   "metadata": {},
   "outputs": [
    {
     "name": "stdout",
     "output_type": "stream",
     "text": [
      "network_attributes: {'context': \"{'pubmed': 'https://www.ncbi.nlm.nih.gov/pubmed/'}\"}\n",
      "nodes: 6\n",
      "edges: 4\n"
     ]
    }
   ],
   "source": [
    "# set prefixes on represents on publication nodes to work with @context\n",
    "for node_id, node in cx2_from_df.get_nodes().items():\n",
    "    if cx2_from_df.get_node(node_id)['v'].get('type', None) != 'research institute':\n",
    "        cx2_from_df.add_node_attribute(node_id, 'reference', 'pubmed:'+ node['v']['name'])\n",
    "\n",
    "print('network_attributes:', cx2_from_df.get_network_attributes())\n",
    "print('nodes:', len(cx2_from_df.get_nodes()))\n",
    "print('edges:', len(cx2_from_df.get_edges()))"
   ]
  },
  {
   "cell_type": "markdown",
   "metadata": {},
   "source": [
    "### 5. Upload to NDEx\n",
    "\n",
    "This last step loads the network to you NDEx account. You need to provide your NDEx account credentials (**user** and **password**) in order to upload the network.\n",
    "The code will also generate a clickable URL that you can use to open a browser tab and view your network."
   ]
  },
  {
   "cell_type": "code",
   "execution_count": 39,
   "metadata": {},
   "outputs": [
    {
     "name": "stdin",
     "output_type": "stream",
     "text": [
      " ········\n"
     ]
    }
   ],
   "source": [
    "# Set credentials to access your NDEx account\n",
    "import getpass\n",
    "user = getpass.getpass()"
   ]
  },
  {
   "cell_type": "code",
   "execution_count": 40,
   "metadata": {},
   "outputs": [
    {
     "name": "stdin",
     "output_type": "stream",
     "text": [
      " ········\n"
     ]
    }
   ],
   "source": [
    "password = getpass.getpass()"
   ]
  },
  {
   "cell_type": "code",
   "execution_count": 43,
   "metadata": {},
   "outputs": [
    {
     "name": "stdout",
     "output_type": "stream",
     "text": [
      "View your network: https://www.ndexbio.org/viewer/networks/b3b31395-d20d-11ef-8e41-005056ae3c32\n"
     ]
    }
   ],
   "source": [
    "server = 'www.ndexbio.org'\n",
    "\n",
    "# Upload the network\n",
    "client = ndex2.client.Ndex2(host=server,username=user, password=password)\n",
    "res = client.save_new_cx2_network(cx2_from_df.to_cx2(), visibility='PRIVATE')\n",
    "\n",
    "# Generate a clickable link to view your network in the browser directly from the notebook.\n",
    "# Please note that the browser might ask you to login in to your NDEx account in order to view the network.\n",
    "base_url = 'https://www.ndexbio.org/viewer/networks/'\n",
    "print (f\"View your network: {base_url}{res.split('/')[-1]}\")\n"
   ]
  },
  {
   "cell_type": "markdown",
   "metadata": {},
   "source": [
    " ### 6. Next steps\n",
    " \n",
    "Your network is now saved in your NDEx account and its visibility set to PRIVATE, so you are the only one who can see it. You can perform additional operations on the network directly in NDEx; these include:\n",
    " \n",
    " - Adding/editing network attributes (title, description, version, etc)\n",
    " - Changing the network visibility\n",
    " - Importing it in Cytoscape for visual styling or further analysis\n",
    " - Requesting a DOI\n",
    " - Querying to extract sub-networks of interest"
   ]
  },
  {
   "cell_type": "markdown",
   "metadata": {},
   "source": [
    "-----------------------------------------------------------------------------------"
   ]
  },
  {
   "cell_type": "markdown",
   "metadata": {},
   "source": [
    "###### Questions/comments:   rpillich@ucsd.edu"
   ]
  }
 ],
 "metadata": {
  "kernelspec": {
   "display_name": "Python 3 (ipykernel)",
   "language": "python",
   "name": "python3"
  },
  "language_info": {
   "codemirror_mode": {
    "name": "ipython",
    "version": 3
   },
   "file_extension": ".py",
   "mimetype": "text/x-python",
   "name": "python",
   "nbconvert_exporter": "python",
   "pygments_lexer": "ipython3",
   "version": "3.8.18"
  }
 },
 "nbformat": 4,
 "nbformat_minor": 4
}
