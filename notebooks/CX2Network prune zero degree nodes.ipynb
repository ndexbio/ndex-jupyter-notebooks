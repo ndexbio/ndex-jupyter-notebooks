{
 "cells": [
  {
   "cell_type": "markdown",
   "metadata": {},
   "source": [
    "# CX2 -> networkx -> remove zero degree nodes -> upload"
   ]
  },
  {
   "cell_type": "markdown",
   "metadata": {},
   "source": [
    "In this tutorial we will be downloading a network from NDEx, converting that network to networkx `Graph()` object via the `get_graph()` method from `CX2NetworkXFactory`, removing 0 degree nodes, and uploading the new network back to NDEx. \n",
    "\n",
    "This tutorial requires Python 3.8+ and networkx 2.4+"
   ]
  },
  {
   "cell_type": "markdown",
   "metadata": {},
   "source": [
    "# Import modules\n",
    "\n",
    "Import needed modules. If there is an error with matplotlib run:\n",
    "\n",
    "`conda install -c conda-forge matplotlib`\n",
    "\n",
    "**NOTE:** For better support for Anaconda environments, exit Jupyter and run:\n",
    "          `conda install -c anaconda nb_conda`"
   ]
  },
  {
   "cell_type": "code",
   "execution_count": null,
   "metadata": {
    "tags": []
   },
   "outputs": [],
   "source": [
    "import matplotlib\n",
    "\n",
    "# If notebook crashes or gives matplotlib error try uncommenting the next line \n",
    "# matplotlib.use('Qt4Agg')\n",
    "\n",
    "# this matplotlib inline enables the matplotlib plots to be displayed in the Jupyter notebook\n",
    "%matplotlib inline\n",
    "\n",
    "import matplotlib.pyplot as plt\n",
    "import ndex2\n",
    "from ndex2 import cx2\n",
    "from ndex2.client import DecimalEncoder\n",
    "import networkx\n",
    "import json\n",
    "import io\n",
    "\n",
    "# regular expression library\n",
    "import re\n",
    "\n",
    "# used to prompt user for NDEx password in this notebook\n",
    "import getpass\n"
   ]
  },
  {
   "cell_type": "markdown",
   "metadata": {},
   "source": [
    "# Download the example network from NDEx\n",
    "\n",
    "Using the `get_network_as_cx2_stream()` from `ndex2.client.Ndex2()` and `cx2.RawCX2NetworkFactory`, the following line of code downloads the network from NDEx and creates a `CX2Network` object named `cx2_network`. \n",
    "\n",
    "For help on function names try running `help(cx2_network)`"
   ]
  },
  {
   "cell_type": "code",
   "execution_count": null,
   "metadata": {},
   "outputs": [],
   "source": [
    "# EXAMPLE NETWORK FROM NDEx CIViC Variant-Drug Associations\n",
    "# Viewable in a browser here: https://www.ndexbio.org/viewer/networks/58b909ff-d961-11ed-b4a3-005056ae23aa\n",
    "civic_variant_drug_network_uuid = '58b909ff-d961-11ed-b4a3-005056ae23aa'\n",
    "\n",
    "# Create NDEx2 python client\n",
    "client = ndex2.client.Ndex2()\n",
    "\n",
    "# Create CX2Network factory\n",
    "factory = cx2.RawCX2NetworkFactory()\n",
    "\n",
    "# Get network as cx2 stream\n",
    "client_resp = client.get_network_as_cx2_stream(civic_variant_drug_network_uuid)\n",
    "\n",
    "# Convert downloaded network to CX2Network object\n",
    "cx2_network = factory.get_cx2network(json.loads(client_resp.content))"
   ]
  },
  {
   "cell_type": "markdown",
   "metadata": {},
   "source": [
    "# Get positions of nodes from CX2Netowork\n",
    "\n",
    "This fragment of code uses `get_nodes()` on the `cx2_network` and get the positions stored in node attributes."
   ]
  },
  {
   "cell_type": "code",
   "execution_count": null,
   "metadata": {},
   "outputs": [],
   "source": [
    "node_positions={}\n",
    "\n",
    "# Interate through nodes of cx2_network\n",
    "for node_id, node_attr in cx2_network.get_nodes().items():\n",
    "    node_positions[node_id]=(node_attr[ndex2.constants.LAYOUT_X],\n",
    "                             node_attr[ndex2.constants.LAYOUT_Y])\n",
    "print(len(node_positions))"
   ]
  },
  {
   "cell_type": "markdown",
   "metadata": {},
   "source": [
    "# Make a networkx graph from the CX2\n",
    "\n",
    "This fragment of code uses `to_graph()` from `cx2.CX2NetworkXFactory` to make a networkx `Graph()` object. "
   ]
  },
  {
   "cell_type": "code",
   "execution_count": null,
   "metadata": {},
   "outputs": [],
   "source": [
    "networkx_factory = cx2.CX2NetworkXFactory()\n",
    "\n",
    "g = networkx_factory.get_graph(cx2_network)\n",
    "\n",
    "print('CX2Network number of nodes: ' + str(len(cx2_network.get_nodes())) + \n",
    "      ' vs Networkx: ' + str(len(list(g))))\n",
    "print('CX2Network number of edges: ' + str(len(cx2_network.get_edges())) +\n",
    "      ' vs Networkx: ' + str(g.number_of_edges()))\n",
    "\n",
    "# the networkx object has the name and description of the original network\n",
    "if g.graph.get('name'):\n",
    "   print(g.graph)"
   ]
  },
  {
   "cell_type": "markdown",
   "metadata": {},
   "source": [
    "# Plot your network in the notebook\n",
    "\n",
    "If the following fails, the issue might be due to installation of older version of networkx (1.11) \n",
    "\n",
    "To fix this, exit jupyter and run the following in the terminal:\n",
    "\n",
    "`pip install networkx --upgrade`\n",
    "\n",
    "Then restart jupyter notebook (ie `jupyter notebook`) "
   ]
  },
  {
   "cell_type": "code",
   "execution_count": null,
   "metadata": {},
   "outputs": [],
   "source": [
    "print(\"networkx version: \" + networkx.__version__)\n",
    "print(\"starting...\")\n",
    "plt.rcParams['figure.dpi'] = 200\n",
    "networkx.draw_networkx(g, pos=node_positions, node_size=5, with_labels=False, width=0.2)"
   ]
  },
  {
   "cell_type": "markdown",
   "metadata": {},
   "source": [
    "# Get a list of the zero degree nodes\n",
    "\n",
    "We use the networkx method `isolates()` to get a list of all zero degree nodes and then store them in the variable `isolatelist`"
   ]
  },
  {
   "cell_type": "code",
   "execution_count": null,
   "metadata": {},
   "outputs": [],
   "source": [
    "isolatelist = list(networkx.isolates(g))\n",
    "print('Number of zero degree nodes: ' + str(len(isolatelist)))"
   ]
  },
  {
   "cell_type": "markdown",
   "metadata": {},
   "source": [
    "# Remove the zero degree nodes and their positions\n",
    "\n",
    "We will now remove the zero degree nodes by their ids on the `isolatelist`"
   ]
  },
  {
   "cell_type": "code",
   "execution_count": null,
   "metadata": {},
   "outputs": [],
   "source": [
    "print('Number of nodes before removal: ' + str(len(list(g))))\n",
    "# the nodes in the networkx graph are the node ids from the NiceCX network\n",
    "\n",
    "g.remove_nodes_from(isolatelist)\n",
    "\n",
    "print('Number of nodes after removal: ' + str(len(list(g))))"
   ]
  },
  {
   "cell_type": "markdown",
   "metadata": {},
   "source": [
    "# Convert the networkx object back to a CX2Network object\n",
    "\n",
    "The following code converts the networkx graph object `g` back to a \n",
    "`CX2Network` object using `NetworkXToCX2NetworkFactory` and `get_cx2network()` method.\n",
    "\n",
    "Additional calls below set the name of the network as well as the description. \n",
    "\n",
    "Finally, for debugging puposes, the number of nodes and edges is output for both objects"
   ]
  },
  {
   "cell_type": "code",
   "execution_count": null,
   "metadata": {},
   "outputs": [],
   "source": [
    "# we use the networkx object, g, to create a CX2Network object\n",
    "cx2_factory = cx2.NetworkXToCX2NetworkFactory()\n",
    "newnetwork = cx2_factory.get_cx2network(g)\n",
    "\n",
    "# we demonstrate that the new CX2Network object has the same number of nodes and edges as the networkx object\n",
    "print('CX2Network from networkx number of nodes: ' + str(len(newnetwork.get_nodes())) + \n",
    "      ' vs Networkx: ' + str(len(g)))\n",
    "print('CX2Netowrk from networkx number of edges: ' + str(len(newnetwork.get_edges())) +\n",
    "      ' vs Networkx: ' + str(g.number_of_edges()))\n",
    "\n",
    "# we will set the name of the new network to be a modification of the original network\n",
    "newnetwork.set_name(cx2_network.get_name() + ' 0 degree nodes removed')\n",
    "\n",
    "# and also set a description for the network\n",
    "newnetwork.add_network_attribute('description', value='my network with 0 degree nodes removed')\n"
   ]
  },
  {
   "cell_type": "markdown",
   "metadata": {},
   "source": [
    "# Enter your NDEx username \n",
    "\n",
    "Be sure to hit enter in the field to set the value!!"
   ]
  },
  {
   "cell_type": "code",
   "execution_count": null,
   "metadata": {},
   "outputs": [],
   "source": [
    "ndexuser = getpass.getpass()"
   ]
  },
  {
   "cell_type": "markdown",
   "metadata": {},
   "source": [
    "# Enter your NDEx password \n",
    "\n",
    "Be sure to hit enter in the field to set the value!!"
   ]
  },
  {
   "cell_type": "code",
   "execution_count": null,
   "metadata": {},
   "outputs": [],
   "source": [
    "ndexpassword = getpass.getpass()"
   ]
  },
  {
   "cell_type": "markdown",
   "metadata": {},
   "source": [
    "# Upload your network to NDEx"
   ]
  },
  {
   "cell_type": "code",
   "execution_count": null,
   "metadata": {},
   "outputs": [],
   "source": [
    "# Create client, be sure to replace <USERNAME> and <PASSWORD> with NDEx username & password\n",
    "client = ndex2.client.Ndex2(username=ndexuser, password=ndexpassword)\n",
    "\n",
    "# Save network to NDEx, value returned is link to raw CX2 data on server.\n",
    "res = client.save_new_cx2_network(newnetwork.to_cx2(), visibility='PUBLIC')\n",
    "\n",
    "# res contains the URL to the raw network in CX2 format\n",
    "# to get UUID keep string right of last / character\n",
    "newnetwork_uuid = res.split('/')[-1]\n",
    "\n",
    "print('Network UUID: ' + newnetwork_uuid)\n",
    "print('Link to view network in NDEx: ' + re.sub('\\/v3\\/networks\\/', '/viewer/networks/', res))"
   ]
  },
  {
   "cell_type": "markdown",
   "metadata": {},
   "source": [
    "# Apply the style from the original network to your network\n",
    "\n",
    "When converting to/from networkx Graph() the style on the original network is lost. To recover that style, we will use get the style from the original network using the `get_visual_properties()` method.  Then we will use `set_visual_properties()` that applies it to the current network. "
   ]
  },
  {
   "cell_type": "code",
   "execution_count": null,
   "metadata": {},
   "outputs": [],
   "source": [
    "vis_prop = cx2_network.get_visual_properties()\n",
    "newnetwork.set_visual_properties(vis_prop)"
   ]
  },
  {
   "cell_type": "markdown",
   "metadata": {},
   "source": [
    "# Update our network on NDEx\n",
    "\n",
    "Rather then uploading an additional network to NDEx, we will update the one we just wrote using the `update_cx2_network()` method. This method requires the CX2 network as a bytes stream and the network's UUID as the second argument."
   ]
  },
  {
   "cell_type": "code",
   "execution_count": null,
   "metadata": {},
   "outputs": [],
   "source": [
    "# Create bytes stream\n",
    "cx_stream = io.BytesIO(json.dumps(newnetwork.to_cx2(),\n",
    "                                  cls=DecimalEncoder).encode('utf-8'))\n",
    "\n",
    "# Update network in NDEx by completely replacing the network with\n",
    "# one set in cx_stream\n",
    "client.update_cx2_network(cx_stream, newnetwork_uuid)"
   ]
  },
  {
   "cell_type": "code",
   "execution_count": null,
   "metadata": {},
   "outputs": [],
   "source": []
  }
 ],
 "metadata": {
  "kernelspec": {
   "display_name": "Python 3 (ipykernel)",
   "language": "python",
   "name": "python3"
  },
  "language_info": {
   "codemirror_mode": {
    "name": "ipython",
    "version": 3
   },
   "file_extension": ".py",
   "mimetype": "text/x-python",
   "name": "python",
   "nbconvert_exporter": "python",
   "pygments_lexer": "ipython3",
   "version": "3.11.11"
  }
 },
 "nbformat": 4,
 "nbformat_minor": 4
}
